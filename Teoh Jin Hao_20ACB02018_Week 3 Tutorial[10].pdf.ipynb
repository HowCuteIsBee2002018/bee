{
 "cells": [
  {
   "cell_type": "markdown",
   "id": "0d849b2f",
   "metadata": {},
   "source": [
    "# Learning outcomes\n",
    "1. Load, display and save images\n",
    "2. Load, show and save videos\n",
    "3. image resizing"
   ]
  },
  {
   "cell_type": "markdown",
   "id": "75aa1e21",
   "metadata": {},
   "source": [
    "## Why OpenCV?\n",
    "- Compatible with multiple major OS, like Windows, MacOS, Linux, Written in C++, Python and Java\n",
    "- Interpreterable with Numpy, thereby facilities fast computation of image arrays\n",
    "- Large community support, a lot of articles, stackoverflow post regarding OpenCV"
   ]
  },
  {
   "cell_type": "markdown",
   "id": "6bc48c61",
   "metadata": {},
   "source": [
    "## Image formats\n",
    "- JPEG(.jpg, .jpeg, jfif)\n",
    "    - photos, smaller file size compared to png \n",
    "- PNG (.png)\n",
    "    - lossless compression, use in website or file transfer\n",
    "- tiff (.tif)\n",
    "    - used for printing (high quality). Large file size\n",
    "- bitmap(.bmp)\n",
    "    - large file size and multi-purpose\n",
    "- gif (.GIF, OpenCV can't deal with GIF)\n",
    "    - support animation, shallow color depth\n",
    "- webp (.webp)\n",
    "    - used for file transfer, not supported by IE, smaller file size compared to JPG and PNG\n"
   ]
  },
  {
   "cell_type": "markdown",
   "id": "7c0c54db",
   "metadata": {},
   "source": [
    "## Load and show images "
   ]
  },
  {
   "cell_type": "markdown",
   "id": "9cc5c833",
   "metadata": {},
   "source": [
    "### setup"
   ]
  },
  {
   "cell_type": "code",
   "execution_count": 1,
   "id": "70bd2e3e",
   "metadata": {},
   "outputs": [],
   "source": [
    "import sys\n",
    "#at least Python 3.7\n",
    "assert sys.version_info >= (3, 7)\n",
    "\n",
    "import numpy as np\n",
    "import cv2 as cv\n"
   ]
  },
  {
   "cell_type": "code",
   "execution_count": 2,
   "id": "42ad751b",
   "metadata": {},
   "outputs": [
    {
     "name": "stdout",
     "output_type": "stream",
     "text": [
      "4.8.0\n"
     ]
    }
   ],
   "source": [
    "print(cv.__version__)"
   ]
  },
  {
   "cell_type": "code",
   "execution_count": 3,
   "id": "98856b47",
   "metadata": {
    "scrolled": true
   },
   "outputs": [],
   "source": [
    "path = r\"C:\\Users\\User\\Documents\\Y3S1\\MINI PROJECT\\WEEK 3\\lena.jfif\"\n",
    "img = cv.imread(path)\n",
    "grayscale = cv.imread(path, 0)\n",
    "# second argument: flags, 1(default, read color image), 0(grayscale), -1: cv.CV\n",
    "\n",
    "cv.imshow(\"lena_color\", img)\n",
    "cv.imshow(\"lena_grayscale\", grayscale)\n",
    "cv.waitKey(0) # key binding function: wait for user input\n",
    "cv.destroyAllWindows()"
   ]
  },
  {
   "cell_type": "code",
   "execution_count": 4,
   "id": "8537e0de",
   "metadata": {},
   "outputs": [],
   "source": [
    "def show_img(window_name, img):\n",
    "    #2 arguments: window name and image***\n",
    "    cv.imshow(window_name, img)\n",
    "    cv.waitKey(0) # key binding function: wait for user input\n",
    "    cv.destroyAllWindows()"
   ]
  },
  {
   "cell_type": "code",
   "execution_count": 5,
   "id": "91645702",
   "metadata": {},
   "outputs": [],
   "source": [
    "path = r\"C:\\Users\\User\\Documents\\Y3S1\\MINI PROJECT\\WEEK 3\\lena.png\"\n",
    "img = cv.imread(path)\n",
    "\n",
    "show_img(\"image\", img)\n",
    "#png"
   ]
  },
  {
   "cell_type": "code",
   "execution_count": 6,
   "id": "16e4a578",
   "metadata": {},
   "outputs": [
    {
     "name": "stdout",
     "output_type": "stream",
     "text": [
      "shape of jpeg image:(225, 225, 3)\n",
      "shape of png image:(225, 225, 4)\n"
     ]
    }
   ],
   "source": [
    "#difference between jpeg and png\n",
    "path1 = r\"C:\\Users\\User\\Documents\\Y3S1\\MINI PROJECT\\WEEK 3\\lena.jfif\"\n",
    "img = cv.imread(path1)\n",
    "path2 = r\"C:\\Users\\User\\Documents\\Y3S1\\MINI PROJECT\\WEEK 3\\lena.png\"\n",
    "img = cv.imread(path2)\n",
    "img_jpeg= cv.imread(path1, -1)\n",
    "img_png= cv.imread(path2, -1)\n",
    "\n",
    "print(f\"shape of jpeg image:{img_jpeg.shape}\")\n",
    "print(f\"shape of png image:{img_png.shape}\")"
   ]
  },
  {
   "cell_type": "markdown",
   "id": "28fa973a",
   "metadata": {},
   "source": [
    "How about GIF? we need external module"
   ]
  },
  {
   "cell_type": "code",
   "execution_count": 7,
   "id": "dff8bd9a",
   "metadata": {},
   "outputs": [
    {
     "name": "stdout",
     "output_type": "stream",
     "text": [
      "Requirement already satisfied: imageio in c:\\users\\user\\appdata\\local\\programs\\python\\python311\\lib\\site-packages (2.31.1)\n",
      "Requirement already satisfied: numpy in c:\\users\\user\\appdata\\local\\programs\\python\\python311\\lib\\site-packages (from imageio) (1.25.0)\n",
      "Requirement already satisfied: pillow>=8.3.2 in c:\\users\\user\\appdata\\local\\programs\\python\\python311\\lib\\site-packages (from imageio) (10.0.0)\n"
     ]
    }
   ],
   "source": [
    "!pip install imageio\n",
    "import imageio"
   ]
  },
  {
   "cell_type": "code",
   "execution_count": 8,
   "id": "efd501a0",
   "metadata": {},
   "outputs": [],
   "source": [
    "# GIF\n",
    "path = r\"C:\\Users\\User\\Documents\\Y3S1\\MINI PROJECT\\WEEK 3\\rotating_earth_large.gif\"\n",
    "GIF = imageio.mimread(path)\n",
    "\n",
    "#convert RGB to BGR \n",
    "imgs = [cv.cvtColor(img, cv.COLOR_RGB2BGR) for img in GIF]\n",
    "\n",
    "for img in imgs:\n",
    "    cv.imshow(\"GIF\", img)\n",
    "    cv.waitKey(150)\n",
    "    \n",
    "cv.destroyAllWindows()\n",
    "        \n",
    "#show_img(\"GIF\", imgs[0])"
   ]
  },
  {
   "cell_type": "markdown",
   "id": "0b34a335",
   "metadata": {},
   "source": [
    "# Save Image\n",
    "\n",
    "    cv.imwrite(filepath, img)"
   ]
  },
  {
   "cell_type": "code",
   "execution_count": 9,
   "id": "3607af1c",
   "metadata": {},
   "outputs": [],
   "source": [
    "# formalized way to load, show, and save shape\n",
    "path = r\"C:\\Users\\User\\Documents\\Y3S1\\MINI PROJECT\\WEEK 3\\lena.jfif\"\n",
    "img = cv.imread(cv.samples.findFile(path))\n",
    "\n",
    "if img is None:\n",
    "    sys.exit(\"Not a valid filepath\")\n",
    "\n",
    "cv.imshow(\"lena\", img)\n",
    "k = cv.waitKey(0) & 0xFF\n",
    "\n",
    "\n",
    "#if k == 115:\n",
    "if k == ord('s'): #user have to press 's'\n",
    "    cv.imwrite(\"lena_save.jpg\", img)\n",
    "    \n",
    "cv.destroyAllWindows()    "
   ]
  },
  {
   "cell_type": "markdown",
   "id": "d300fcce",
   "metadata": {},
   "source": [
    "# video operations with OpenCV"
   ]
  },
  {
   "cell_type": "code",
   "execution_count": 10,
   "id": "8ba64fc3",
   "metadata": {},
   "outputs": [
    {
     "name": "stdout",
     "output_type": "stream",
     "text": [
      "No frame detected\n"
     ]
    }
   ],
   "source": [
    "path = r\"C:\\Users\\User\\Documents\\Y3S1\\MINI PROJECT\\WEEK 3\\img_pexels.mp4\"\n",
    "cap = cv.VideoCapture(path)\n",
    "\n",
    "if not cap.isOpened():\n",
    "    sys.exit(\"No such file\")\n",
    "\n",
    "cv.namedWindow(\"frame\", cv.WINDOW_NORMAL)\n",
    "    \n",
    "while True:\n",
    "    #ret is status\n",
    "    #frame is range\n",
    "    ret, frame = cap.read()\n",
    "    if not ret:\n",
    "        print(\"No frame detected\")\n",
    "        break\n",
    "    cv.imshow(\"frame\", frame)\n",
    "    k = cv.waitKey(1) & 0xFF\n",
    "    \n",
    "    if k == 27:\n",
    "        break\n",
    "        \n",
    "cap.release()\n",
    "cv.destroyAllWindows()"
   ]
  },
  {
   "cell_type": "markdown",
   "id": "cb5ff78c",
   "metadata": {},
   "source": [
    "# WebCam\n",
    "save video captured by webcam"
   ]
  },
  {
   "cell_type": "code",
   "execution_count": 11,
   "id": "be9eede4",
   "metadata": {},
   "outputs": [
    {
     "ename": "SystemExit",
     "evalue": "No webcam",
     "output_type": "error",
     "traceback": [
      "An exception has occurred, use %tb to see the full traceback.\n",
      "\u001b[1;31mSystemExit\u001b[0m\u001b[1;31m:\u001b[0m No webcam\n"
     ]
    },
    {
     "name": "stderr",
     "output_type": "stream",
     "text": [
      "C:\\Users\\User\\AppData\\Local\\Programs\\Python\\Python311\\Lib\\site-packages\\IPython\\core\\interactiveshell.py:3516: UserWarning: To exit: use 'exit', 'quit', or Ctrl-D.\n",
      "  warn(\"To exit: use 'exit', 'quit', or Ctrl-D.\", stacklevel=1)\n"
     ]
    }
   ],
   "source": [
    "cap = cv.VideoCapture(0)\n",
    "\n",
    "if not cap.isOpened():\n",
    "    sys.exit(\"No webcam\")\n",
    "\n",
    "#object that can handle save videos\n",
    "#parameters filepath, fourcc, fps, frame, width and height\n",
    "fourcc = cv.VideoWriter_fourcc(\"M\", \"J\", \"P\", \"G\")\n",
    "\n",
    "fps = 15\n",
    "w, h = int(cap.get(3)), int(cap.get(4))\n",
    "out = cv.VideoWriter(\"videos/out.avi\", fourcc, fps, (w,h))\n",
    "\n",
    "while True:\n",
    "    #ret is status\n",
    "    #frame is range\n",
    "    ret, frame = cap.read()\n",
    "    if not ret:\n",
    "        print(\"No frame detected\")\n",
    "        break\n",
    "        \n",
    "    out.write(frame)\n",
    "    cv.imshow(\"frame\", frame)\n",
    "    k = cv.waitKey(1) & 0xFF\n",
    "    \n",
    "    if k == 27:\n",
    "        break\n",
    "        \n",
    "cap.release()\n",
    "out.release()\n",
    "cv.destroyAllWindows()"
   ]
  },
  {
   "cell_type": "code",
   "execution_count": 12,
   "id": "fccbd51a",
   "metadata": {},
   "outputs": [
    {
     "name": "stdout",
     "output_type": "stream",
     "text": [
      "No frame detected\n"
     ]
    },
    {
     "data": {
      "text/plain": [
       "<function destroyAllWindows>"
      ]
     },
     "execution_count": 12,
     "metadata": {},
     "output_type": "execute_result"
    }
   ],
   "source": [
    "import time\n",
    "path = r\"C:\\Users\\User\\Documents\\Y3S1\\MINI PROJECT\\WEEK 3\\img_pexels.mp4\"\n",
    "cap = cv.VideoCapture(path)\n",
    "\n",
    "if not cap.isOpened():\n",
    "    sys.exit(\"No such file\")\n",
    "\n",
    "cv.namedWindow(\"frame\", cv.WINDOW_NORMAL)\n",
    "    \n",
    "start = time.time()    \n",
    "while True:\n",
    "    #ret is status\n",
    "    #frame is range\n",
    "    ret, frame = cap.read()\n",
    "    if not ret:\n",
    "        print(\"No frame detected\")\n",
    "        break\n",
    "    cv.imshow(\"frame\", frame)\n",
    "    k = cv.waitKey(1) & 0xFF\n",
    "    \n",
    "    if k == 27:\n",
    "        break\n",
    "    \n",
    "end = time.time()    \n",
    "# cap.release()\n",
    "cv.destroyAllWindows"
   ]
  },
  {
   "cell_type": "code",
   "execution_count": 13,
   "id": "c8e0ab06",
   "metadata": {},
   "outputs": [
    {
     "name": "stdout",
     "output_type": "stream",
     "text": [
      "The fps using the media player: 60.0\n",
      "The fps with OpenCV: 57.1625265884054\n"
     ]
    }
   ],
   "source": [
    "print(f\"The fps using the media player: {cap.get(5)}\")\n",
    "total_frame = cap.get(7)\n",
    "print(f\"The fps with OpenCV: {total_frame / (end - start)}\")"
   ]
  },
  {
   "cell_type": "markdown",
   "id": "775a8809",
   "metadata": {},
   "source": [
    "## resizing\n",
    "\n",
    "3 methods to perform resizing\n",
    "\n",
    "1. set arbitrary sizes\n",
    "2. state factor"
   ]
  },
  {
   "cell_type": "code",
   "execution_count": 14,
   "id": "e674be42",
   "metadata": {},
   "outputs": [
    {
     "ename": "error",
     "evalue": "OpenCV(4.8.0) D:\\a\\opencv-python\\opencv-python\\opencv\\modules\\imgproc\\src\\resize.cpp:4062: error: (-215:Assertion failed) !ssize.empty() in function 'cv::resize'\n",
     "output_type": "error",
     "traceback": [
      "\u001b[1;31m---------------------------------------------------------------------------\u001b[0m",
      "\u001b[1;31merror\u001b[0m                                     Traceback (most recent call last)",
      "Cell \u001b[1;32mIn[14], line 7\u001b[0m\n\u001b[0;32m      5\u001b[0m new_height \u001b[38;5;241m=\u001b[39m \u001b[38;5;241m300\u001b[39m\n\u001b[0;32m      6\u001b[0m new_width \u001b[38;5;241m=\u001b[39m \u001b[38;5;241m450\u001b[39m\n\u001b[1;32m----> 7\u001b[0m img_resize \u001b[38;5;241m=\u001b[39m \u001b[43mcv\u001b[49m\u001b[38;5;241;43m.\u001b[39;49m\u001b[43mresize\u001b[49m\u001b[43m(\u001b[49m\u001b[43mimg\u001b[49m\u001b[43m,\u001b[49m\u001b[43m \u001b[49m\u001b[43m(\u001b[49m\u001b[43mnew_width\u001b[49m\u001b[43m,\u001b[49m\u001b[43m \u001b[49m\u001b[43mnew_height\u001b[49m\u001b[43m)\u001b[49m\u001b[43m)\u001b[49m\n\u001b[0;32m      9\u001b[0m cv\u001b[38;5;241m.\u001b[39mimshow(\u001b[38;5;124m\"\u001b[39m\u001b[38;5;124moriginal\u001b[39m\u001b[38;5;124m\"\u001b[39m, img)\n\u001b[0;32m     10\u001b[0m show_img(\u001b[38;5;124m\"\u001b[39m\u001b[38;5;124mresize\u001b[39m\u001b[38;5;124m\"\u001b[39m, img_resize)\n",
      "\u001b[1;31merror\u001b[0m: OpenCV(4.8.0) D:\\a\\opencv-python\\opencv-python\\opencv\\modules\\imgproc\\src\\resize.cpp:4062: error: (-215:Assertion failed) !ssize.empty() in function 'cv::resize'\n"
     ]
    }
   ],
   "source": [
    "# 1 method: set any dimension you prefer\n",
    "img = cv.imread(\"images/soccer.jpg\")\n",
    "\n",
    "# arguments: source image, dimension, fx, fy, interpolation methods\n",
    "new_height = 300\n",
    "new_width = 450\n",
    "img_resize = cv.resize(img, (new_width, new_height))\n",
    "\n",
    "cv.imshow(\"original\", img)\n",
    "show_img(\"resize\", img_resize)"
   ]
  },
  {
   "cell_type": "code",
   "execution_count": 15,
   "id": "2268ed51",
   "metadata": {},
   "outputs": [
    {
     "ename": "AttributeError",
     "evalue": "'NoneType' object has no attribute 'shape'",
     "output_type": "error",
     "traceback": [
      "\u001b[1;31m---------------------------------------------------------------------------\u001b[0m",
      "\u001b[1;31mAttributeError\u001b[0m                            Traceback (most recent call last)",
      "Cell \u001b[1;32mIn[15], line 4\u001b[0m\n\u001b[0;32m      1\u001b[0m \u001b[38;5;66;03m#aspect ratio = width/ height\u001b[39;00m\n\u001b[0;32m      2\u001b[0m \u001b[38;5;66;03m#800/1200 = 2/3 original aspect ratio\u001b[39;00m\n\u001b[0;32m      3\u001b[0m \u001b[38;5;66;03m#300/ 450 = 2/3 resize image aspect ratio\u001b[39;00m\n\u001b[1;32m----> 4\u001b[0m \u001b[43mimg\u001b[49m\u001b[38;5;241;43m.\u001b[39;49m\u001b[43mshape\u001b[49m\n",
      "\u001b[1;31mAttributeError\u001b[0m: 'NoneType' object has no attribute 'shape'"
     ]
    }
   ],
   "source": [
    "#aspect ratio = width/ height\n",
    "#800/1200 = 2/3 original aspect ratio\n",
    "#300/ 450 = 2/3 resize image aspect ratio\n",
    "img.shape"
   ]
  },
  {
   "cell_type": "code",
   "execution_count": 16,
   "id": "64f009dd",
   "metadata": {},
   "outputs": [
    {
     "ename": "error",
     "evalue": "OpenCV(4.8.0) D:\\a\\opencv-python\\opencv-python\\opencv\\modules\\imgproc\\src\\resize.cpp:4062: error: (-215:Assertion failed) !ssize.empty() in function 'cv::resize'\n",
     "output_type": "error",
     "traceback": [
      "\u001b[1;31m---------------------------------------------------------------------------\u001b[0m",
      "\u001b[1;31merror\u001b[0m                                     Traceback (most recent call last)",
      "Cell \u001b[1;32mIn[16], line 5\u001b[0m\n\u001b[0;32m      1\u001b[0m \u001b[38;5;66;03m#2 way: scale factor\u001b[39;00m\n\u001b[0;32m      3\u001b[0m img \u001b[38;5;241m=\u001b[39m cv\u001b[38;5;241m.\u001b[39mimread(\u001b[38;5;124m\"\u001b[39m\u001b[38;5;124mimages/lena.jfif\u001b[39m\u001b[38;5;124m\"\u001b[39m)\n\u001b[1;32m----> 5\u001b[0m img_resize \u001b[38;5;241m=\u001b[39m \u001b[43mcv\u001b[49m\u001b[38;5;241;43m.\u001b[39;49m\u001b[43mresize\u001b[49m\u001b[43m(\u001b[49m\u001b[43mimg\u001b[49m\u001b[43m,\u001b[49m\u001b[43m \u001b[49m\u001b[38;5;28;43;01mNone\u001b[39;49;00m\u001b[43m,\u001b[49m\u001b[43m \u001b[49m\u001b[43mfx\u001b[49m\u001b[38;5;241;43m=\u001b[39;49m\u001b[38;5;241;43m1.5\u001b[39;49m\u001b[43m,\u001b[49m\u001b[43m \u001b[49m\u001b[43mfy\u001b[49m\u001b[38;5;241;43m=\u001b[39;49m\u001b[38;5;241;43m1.5\u001b[39;49m\u001b[43m)\u001b[49m\n\u001b[0;32m      7\u001b[0m cv\u001b[38;5;241m.\u001b[39mimshow(\u001b[38;5;124m\"\u001b[39m\u001b[38;5;124moriginal\u001b[39m\u001b[38;5;124m\"\u001b[39m, img)\n\u001b[0;32m      8\u001b[0m show_img(\u001b[38;5;124m\"\u001b[39m\u001b[38;5;124mresize\u001b[39m\u001b[38;5;124m\"\u001b[39m, img_resize)\n",
      "\u001b[1;31merror\u001b[0m: OpenCV(4.8.0) D:\\a\\opencv-python\\opencv-python\\opencv\\modules\\imgproc\\src\\resize.cpp:4062: error: (-215:Assertion failed) !ssize.empty() in function 'cv::resize'\n"
     ]
    }
   ],
   "source": [
    "#2 way: scale factor\n",
    "\n",
    "img = cv.imread(\"images/lena.jfif\")\n",
    "\n",
    "img_resize = cv.resize(img, None, fx=1.5, fy=1.5)\n",
    "\n",
    "cv.imshow(\"original\", img)\n",
    "show_img(\"resize\", img_resize)"
   ]
  },
  {
   "cell_type": "code",
   "execution_count": 17,
   "id": "771e58ba",
   "metadata": {},
   "outputs": [
    {
     "ename": "error",
     "evalue": "OpenCV(4.8.0) D:\\a\\opencv-python\\opencv-python\\opencv\\modules\\highgui\\src\\window.cpp:971: error: (-215:Assertion failed) size.width>0 && size.height>0 in function 'cv::imshow'\n",
     "output_type": "error",
     "traceback": [
      "\u001b[1;31m---------------------------------------------------------------------------\u001b[0m",
      "\u001b[1;31merror\u001b[0m                                     Traceback (most recent call last)",
      "Cell \u001b[1;32mIn[17], line 4\u001b[0m\n\u001b[0;32m      1\u001b[0m \u001b[38;5;66;03m#Exercise 1\u001b[39;00m\n\u001b[0;32m      2\u001b[0m dog \u001b[38;5;241m=\u001b[39m cv\u001b[38;5;241m.\u001b[39mimread(\u001b[38;5;124m\"\u001b[39m\u001b[38;5;124mimages/dog.jfif\u001b[39m\u001b[38;5;124m\"\u001b[39m)\n\u001b[1;32m----> 4\u001b[0m \u001b[43mshow_img\u001b[49m\u001b[43m(\u001b[49m\u001b[38;5;124;43m\"\u001b[39;49m\u001b[38;5;124;43mdog\u001b[39;49m\u001b[38;5;124;43m\"\u001b[39;49m\u001b[43m,\u001b[49m\u001b[43m \u001b[49m\u001b[43mdog\u001b[49m\u001b[43m)\u001b[49m\n",
      "Cell \u001b[1;32mIn[4], line 3\u001b[0m, in \u001b[0;36mshow_img\u001b[1;34m(window_name, img)\u001b[0m\n\u001b[0;32m      1\u001b[0m \u001b[38;5;28;01mdef\u001b[39;00m \u001b[38;5;21mshow_img\u001b[39m(window_name, img):\n\u001b[0;32m      2\u001b[0m     \u001b[38;5;66;03m#2 arguments: window name and image***\u001b[39;00m\n\u001b[1;32m----> 3\u001b[0m     \u001b[43mcv\u001b[49m\u001b[38;5;241;43m.\u001b[39;49m\u001b[43mimshow\u001b[49m\u001b[43m(\u001b[49m\u001b[43mwindow_name\u001b[49m\u001b[43m,\u001b[49m\u001b[43m \u001b[49m\u001b[43mimg\u001b[49m\u001b[43m)\u001b[49m\n\u001b[0;32m      4\u001b[0m     cv\u001b[38;5;241m.\u001b[39mwaitKey(\u001b[38;5;241m0\u001b[39m) \u001b[38;5;66;03m# key binding function: wait for user input\u001b[39;00m\n\u001b[0;32m      5\u001b[0m     cv\u001b[38;5;241m.\u001b[39mdestroyAllWindows()\n",
      "\u001b[1;31merror\u001b[0m: OpenCV(4.8.0) D:\\a\\opencv-python\\opencv-python\\opencv\\modules\\highgui\\src\\window.cpp:971: error: (-215:Assertion failed) size.width>0 && size.height>0 in function 'cv::imshow'\n"
     ]
    }
   ],
   "source": [
    "#Exercise 1\n",
    "dog = cv.imread(\"images/dog.jfif\")\n",
    "\n",
    "show_img(\"dog\", dog)\n",
    "\n"
   ]
  },
  {
   "cell_type": "code",
   "execution_count": null,
   "id": "d00aa404",
   "metadata": {},
   "outputs": [],
   "source": [
    "# formalized way to load, show, and save shape\n",
    "img = cv.imread(cv.samples.findFile(\"images/dog.jfif\"))\n",
    "\n",
    "if img is None:\n",
    "    sys.exit(\"Not a valid filepath\")\n",
    "\n",
    "cv.imshow(\"dog\", img)\n",
    "k = cv.waitKey(0) & 0xFF\n",
    "\n",
    "\n",
    "#if k == 115:\n",
    "if k == ord('s'): #user have to press 's'\n",
    "    cv.imwrite(\"dog_save.jpg\", img)\n",
    "    \n",
    "cv.destroyAllWindows() "
   ]
  },
  {
   "cell_type": "markdown",
   "id": "d7c33033",
   "metadata": {},
   "source": [
    "# Question 2"
   ]
  },
  {
   "cell_type": "code",
   "execution_count": null,
   "id": "2ea66a40",
   "metadata": {},
   "outputs": [],
   "source": [
    "## 1 method call cv.imshow() twice\n",
    "\n",
    "img = cv.imread(\"images/lena.jfif\")\n",
    "grayscale = cv.cvtColor(img, cv.COLOR_BGR2GRAY)\n",
    "cv.imshow(\"COLOR\", img)\n",
    "show_img(\"grayscale\", grayscale)"
   ]
  },
  {
   "cell_type": "code",
   "execution_count": null,
   "id": "52c51c8d",
   "metadata": {},
   "outputs": [],
   "source": [
    "## 2 method call matplotlib module\n",
    "import matplotlib.pyplot as plt"
   ]
  },
  {
   "cell_type": "code",
   "execution_count": null,
   "id": "73c4e681",
   "metadata": {},
   "outputs": [],
   "source": [
    "#change BGR2RG\n",
    "img_rgb = cv.cvtColor(img, cv.COLOR_BGR2RGB)\n",
    "\n",
    "plt.subplot(121)\n",
    "plt.imshow(img_rgb)\n",
    "plt.xticks([]), plt.yticks([])\n",
    "plt.subplot(122)\n",
    "plt.imshow(grayscale, cmap=plt.cm.gray)\n",
    "plt.xticks([]), plt.yticks([])\n",
    "plt.suptitle(\"color and grayscale\")\n",
    "plt.show()"
   ]
  },
  {
   "cell_type": "code",
   "execution_count": null,
   "id": "055c3bbf",
   "metadata": {},
   "outputs": [],
   "source": [
    "# 3 method: cv.imshow() or plt (array concatenation)\n",
    "\n",
    "grayscale = cv.cvtColor(grayscale, cv.COLOR_GRAY2BGR)\n",
    "\n",
    "img_combined = np.hstack((img, grayscale))\n",
    "\n",
    "show_img(\"color vs grayscale\", img_combined)"
   ]
  },
  {
   "cell_type": "code",
   "execution_count": null,
   "id": "e3d09db2",
   "metadata": {},
   "outputs": [],
   "source": [
    "#create image\n",
    "black= np.zeros((200,200), dtype=np.uint8)\n",
    "show_img(\"black\",black)\n",
    "\n",
    "h,w= black.shape[:2]\n",
    "Xc= int(w/2)\n",
    "Yc= int(h/2)\n",
    "\n",
    "radius= 25\n",
    "criteria= np.fromfunction(lambda i,j: np.sqrt((Xc-i)**2+ (Yc-j)**2), (200,200))\n",
    "\n",
    "black[criteria<= 25]= 255\n",
    "show_img(\"black\",black)\n",
    "black[75:125,75:125]= 255\n",
    "show_img(\"black\",black)\n",
    "\n"
   ]
  },
  {
   "cell_type": "markdown",
   "id": "2e192448",
   "metadata": {},
   "source": [
    "## question 3"
   ]
  },
  {
   "cell_type": "code",
   "execution_count": 2,
   "id": "87e16c82",
   "metadata": {},
   "outputs": [],
   "source": [
    "import cv2\n",
    "\n",
    "# Load the video\n",
    "video_path = \"img_pexels.mp4\"\n",
    "cap = cv2.VideoCapture(video_path)\n",
    "\n",
    "# Get the original video's frame rate\n",
    "frame_rate = cap.get(cv2.CAP_PROP_FPS)\n",
    "\n",
    "# Create a window to display the resized frames\n",
    "cv2.namedWindow(\"Resized Video\", cv2.WINDOW_NORMAL)\n",
    "\n",
    "# Read and display each frame with resizing\n",
    "while True:\n",
    "    ret, frame = cap.read()\n",
    "\n",
    "    if not ret:\n",
    "        break\n",
    "\n",
    "    # Resize the frame\n",
    "    resized_frame = cv2.resize(frame, (0, 0), fx=0.5, fy=0.5)  # Change the resize dimensions as desired\n",
    "\n",
    "    # Display the resized frame\n",
    "    cv2.imshow(\"Resized Video\", resized_frame)\n",
    "\n",
    "    # Exit if 'q' is pressed\n",
    "    if cv2.waitKey(int(1000 / frame_rate)) & 0xFF == ord('q'):\n",
    "        break\n",
    "\n",
    "# Release the video capture and close the window\n",
    "cap.release()\n",
    "cv2.destroyAllWindows()"
   ]
  },
  {
   "cell_type": "markdown",
   "id": "8c41fc8b",
   "metadata": {},
   "source": [
    "## question 4"
   ]
  },
  {
   "cell_type": "code",
   "execution_count": 3,
   "id": "25f15345",
   "metadata": {},
   "outputs": [],
   "source": [
    "from PIL import Image\n",
    "\n",
    "# Open the image\n",
    "image = Image.open(\"dog.jfif\")\n",
    "\n",
    "# Resize using linear interpolation\n",
    "linear_resized_image = image.resize((image.width * 2, image.height * 2), Image.BILINEAR)\n",
    "\n",
    "# Resize using cubic interpolation\n",
    "cubic_resized_image = image.resize((image.width * 2, image.height * 2), Image.BICUBIC)\n",
    "\n",
    "# Resize using nearest neighbor interpolation\n",
    "nearest_resized_image = image.resize((image.width * 2, image.height * 2), Image.NEAREST)\n",
    "\n",
    "# Display the images\n",
    "linear_resized_image.show()\n",
    "cubic_resized_image.show()\n",
    "nearest_resized_image.show()"
   ]
  },
  {
   "cell_type": "code",
   "execution_count": null,
   "id": "27dc75b1",
   "metadata": {},
   "outputs": [],
   "source": []
  },
  {
   "cell_type": "code",
   "execution_count": null,
   "id": "cf155b60",
   "metadata": {},
   "outputs": [],
   "source": []
  },
  {
   "cell_type": "code",
   "execution_count": null,
   "id": "c98adb2a",
   "metadata": {},
   "outputs": [],
   "source": []
  },
  {
   "cell_type": "code",
   "execution_count": null,
   "id": "89e4678a",
   "metadata": {},
   "outputs": [],
   "source": []
  }
 ],
 "metadata": {
  "kernelspec": {
   "display_name": "Python 3 (ipykernel)",
   "language": "python",
   "name": "python3"
  },
  "language_info": {
   "codemirror_mode": {
    "name": "ipython",
    "version": 3
   },
   "file_extension": ".py",
   "mimetype": "text/x-python",
   "name": "python",
   "nbconvert_exporter": "python",
   "pygments_lexer": "ipython3",
   "version": "3.11.4"
  }
 },
 "nbformat": 4,
 "nbformat_minor": 5
}
